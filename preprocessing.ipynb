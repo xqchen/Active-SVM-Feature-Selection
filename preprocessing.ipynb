{
 "cells": [
  {
   "cell_type": "code",
   "execution_count": 33,
   "metadata": {},
   "outputs": [],
   "source": [
    "import numpy as np\n",
    "from scipy import io as sio\n",
    "from scipy import sparse as ss\n",
    "import csv\n",
    "import pandas as pd"
   ]
  },
  {
   "cell_type": "code",
   "execution_count": 15,
   "metadata": {},
   "outputs": [],
   "source": [
    "def load_genes(genes):\n",
    "    '''\n",
    "    Load the gene names from a file\n",
    "\n",
    "    Parameters\n",
    "    ----------\n",
    "    genes : str\n",
    "        Path to a gene file\n",
    "    '''\n",
    "    try:\n",
    "        genes = np.array([row[1].upper() for row in csv.reader(open(genes), delimiter=\"\\t\")]) # 10X format\n",
    "    except:\n",
    "        genes = np.array([row[0].upper() for row in csv.reader(open(genes), delimiter=\"\\t\")]) # base format with one gene name per row\n",
    "    return genes\n",
    "\n",
    "## Load in the data and create a metadata table\n",
    "def load_multiple_samples(samples, barcodes, genefile):\n",
    "    '''\n",
    "    Load the gene names from a set of mtx files\n",
    "\n",
    "    Parameters\n",
    "    ----------\n",
    "    samples : dict\n",
    "        dictionary of sample names and path to matrix file\n",
    "    barcodes : dict\n",
    "        dictionary of sample names and path to barcodes file\n",
    "    genefile : str\n",
    "        Path to a gene file\n",
    "    '''\n",
    "\n",
    "    genes = load_genes(genefile)\n",
    "\n",
    "    samplenames = list(samples.keys())\n",
    "    sampleorder = list(np.sort(samplenames))\n",
    "\n",
    "    Mlist = []\n",
    "    meta=pd.DataFrame()\n",
    "    for x in sampleorder: \n",
    "        print('Loading in sample: ' + x)\n",
    "        currM = sio.mmread(samples[x]).tocsc()\n",
    "        currbc = list(pd.read_csv(barcodes[x], header=None)[0])\n",
    "        Mlist.append(currM)\n",
    "        currmeta = pd.DataFrame({'sample':[x]*currM.shape[1]})\n",
    "        currmeta.index = [currbc[i] + '_' + x for i in range(len(currbc))]  \n",
    "        meta = meta.append(currmeta)\n",
    "\n",
    "    M = ss.hstack(Mlist)\n",
    "    \n",
    "    return M, genes, meta\n",
    "\n",
    "def load_consolidated_data(matrixfile, metafile, genefile):\n",
    "\n",
    "    '''\n",
    "    Load the gene names from a set of mtx files\n",
    "\n",
    "    Parameters\n",
    "    ----------\n",
    "    matrixfile : string\n",
    "        path to matrix file\n",
    "    metafile : string\n",
    "        path to metadata file \n",
    "    genefile : str\n",
    "        Path to a gene file\n",
    "    '''\n",
    "    genes = load_genes(genefile)\n",
    "    meta = pd.read_csv(metafile, header=0) \n",
    "    M = sio.mmread(matrixfile).tocsc()    \n",
    "    return M, genes, meta\n",
    "\n",
    "def normalize(M, meta):\n",
    "    '''\n",
    "    Normalize databy dividing by column sum\n",
    "\n",
    "    Parameters\n",
    "    ----------\n",
    "    M : sparse matrix\n",
    "        gene expression matrix\n",
    "    meta : table\n",
    "        metadata table\n",
    "    '''\n",
    "\n",
    "\n",
    "    # normalize by dividing by column sum\n",
    "    sums = np.array(M.sum(axis=0)).flatten() # compute sums of all columns (cells)\n",
    "    M.data = M.data.astype(float) # convert type from int to float prior to division\n",
    "\n",
    "    for i in range(len(M.indptr)-1): # for each column i\n",
    "        rr = range(M.indptr[i], M.indptr[i+1]) # get range rr\n",
    "        M.data[rr] = M.data[rr]/sums[i] # divide data values by matching column sum\n",
    "\n",
    "    # add transcript totals to the metadata table\n",
    "    meta['transcript_total'] = sums\n",
    "    \n",
    "    return M, meta\n",
    "\n"
   ]
  },
  {
   "cell_type": "code",
   "execution_count": 16,
   "metadata": {},
   "outputs": [],
   "source": [
    "# Define paths for files\n",
    "matrixfile = 'data/consolidated/MM_all_matrix.mtx' \n",
    "metafile = 'data/consolidated/MM_all_metadata.csv'\n",
    "genefile = 'data/consolidated/genes.tsv'"
   ]
  },
  {
   "cell_type": "code",
   "execution_count": 17,
   "metadata": {},
   "outputs": [],
   "source": [
    "M, genes, meta = load_consolidated_data(matrixfile, metafile, genefile)"
   ]
  },
  {
   "cell_type": "code",
   "execution_count": null,
   "metadata": {},
   "outputs": [],
   "source": [
    "# normalize data by dividing by transcript sum\n",
    "M, meta = normalize (M, meta)"
   ]
  },
  {
   "cell_type": "code",
   "execution_count": 25,
   "metadata": {},
   "outputs": [],
   "source": [
    "meta = pd.read_csv(metafile, header=0)"
   ]
  },
  {
   "cell_type": "markdown",
   "metadata": {},
   "source": [
    "### Filter out genes by Poisson"
   ]
  },
  {
   "cell_type": "code",
   "execution_count": 34,
   "metadata": {},
   "outputs": [],
   "source": [
    "g_idx = filter_genes(M,1.1)\n",
    "\n",
    "### Now rescale, log and filter the data\n",
    "alpha = 10000\n",
    "M2 = np.log1p(M[g_idx,:]*alpha)\n",
    "genes2 = genes[g_idx]"
   ]
  },
  {
   "cell_type": "markdown",
   "metadata": {},
   "source": [
    "### Define variables for active feature selection"
   ]
  },
  {
   "cell_type": "code",
   "execution_count": 35,
   "metadata": {},
   "outputs": [],
   "source": [
    "data = M2\n",
    "raw_target = meta['celltype'] # or meta['celltype_2']"
   ]
  },
  {
   "cell_type": "code",
   "execution_count": null,
   "metadata": {},
   "outputs": [],
   "source": []
  }
 ],
 "metadata": {
  "kernelspec": {
   "display_name": "Python 3",
   "language": "python",
   "name": "python3"
  },
  "language_info": {
   "codemirror_mode": {
    "name": "ipython",
    "version": 3
   },
   "file_extension": ".py",
   "mimetype": "text/x-python",
   "name": "python",
   "nbconvert_exporter": "python",
   "pygments_lexer": "ipython3",
   "version": "3.7.9"
  }
 },
 "nbformat": 4,
 "nbformat_minor": 2
}
